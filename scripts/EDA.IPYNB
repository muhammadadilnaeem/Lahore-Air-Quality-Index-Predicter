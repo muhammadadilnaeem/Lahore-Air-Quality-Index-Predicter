{
 "cells": [
  {
   "cell_type": "markdown",
   "metadata": {},
   "source": [
    "# **Exploratory Data Analysis, Data Preprocessing and Model Training on Lahore Air Quality Index 2023-2024**"
   ]
  },
  {
   "cell_type": "markdown",
   "metadata": {},
   "source": [
    "Data Sources : [OpenAQ](https://api.openaq.org/)"
   ]
  },
  {
   "cell_type": "markdown",
   "metadata": {},
   "source": [
    "----\n",
    "\n",
    "## **Exploratory Data Analysis**\n",
    "\n",
    "\n",
    "---"
   ]
  },
  {
   "cell_type": "markdown",
   "metadata": {},
   "source": [
    "### **Importing Libraries**"
   ]
  },
  {
   "cell_type": "code",
   "execution_count": 42,
   "metadata": {},
   "outputs": [],
   "source": [
    "import os\n",
    "import requests\n",
    "import pandas as pd\n",
    "import numpy as np\n",
    "import matplotlib.pyplot as plt\n",
    "import seaborn as sns\n",
    "from sklearn.preprocessing import StandardScaler\n",
    "from sklearn.model_selection import train_test_split\n",
    "from sklearn.pipeline import Pipeline\n",
    "from sklearn.linear_model import LinearRegression\n",
    "from sklearn.tree import DecisionTreeRegressor\n",
    "from sklearn.ensemble import RandomForestRegressor, GradientBoostingRegressor\n",
    "from sklearn.naive_bayes import GaussianNB\n",
    "from xgboost import XGBRegressor\n",
    "from sklearn.svm import SVR\n",
    "from sklearn.metrics import mean_squared_error, mean_absolute_error, r2_score\n",
    "import joblib"
   ]
  },
  {
   "cell_type": "markdown",
   "metadata": {},
   "source": [
    "### **Load the Dataset**"
   ]
  },
  {
   "cell_type": "code",
   "execution_count": 17,
   "metadata": {},
   "outputs": [],
   "source": [
    "data = pd.read_csv(r\"E:\\Project and Advices\\Project Air Quality Index project\\data\\raw\\lahore_air_quality_data.csv\")"
   ]
  },
  {
   "cell_type": "markdown",
   "metadata": {},
   "source": [
    "### **Take a Look at first 10 rows of dataset**"
   ]
  },
  {
   "cell_type": "code",
   "execution_count": 18,
   "metadata": {},
   "outputs": [
    {
     "data": {
      "text/html": [
       "<div>\n",
       "<style scoped>\n",
       "    .dataframe tbody tr th:only-of-type {\n",
       "        vertical-align: middle;\n",
       "    }\n",
       "\n",
       "    .dataframe tbody tr th {\n",
       "        vertical-align: top;\n",
       "    }\n",
       "\n",
       "    .dataframe thead th {\n",
       "        text-align: right;\n",
       "    }\n",
       "</style>\n",
       "<table border=\"1\" class=\"dataframe\">\n",
       "  <thead>\n",
       "    <tr style=\"text-align: right;\">\n",
       "      <th></th>\n",
       "      <th>locationId</th>\n",
       "      <th>location</th>\n",
       "      <th>parameter</th>\n",
       "      <th>value</th>\n",
       "      <th>date</th>\n",
       "      <th>unit</th>\n",
       "      <th>coordinates</th>\n",
       "      <th>country</th>\n",
       "      <th>city</th>\n",
       "      <th>isMobile</th>\n",
       "      <th>isAnalysis</th>\n",
       "      <th>entity</th>\n",
       "      <th>sensorType</th>\n",
       "    </tr>\n",
       "  </thead>\n",
       "  <tbody>\n",
       "    <tr>\n",
       "      <th>0</th>\n",
       "      <td>8664</td>\n",
       "      <td>US Diplomatic Post: Lahore</td>\n",
       "      <td>pm25</td>\n",
       "      <td>281</td>\n",
       "      <td>{'utc': '2024-08-05T00:00:00+00:00', 'local': ...</td>\n",
       "      <td>?g/m?</td>\n",
       "      <td>{'latitude': 31.560078, 'longitude': 74.33589}</td>\n",
       "      <td>PK</td>\n",
       "      <td>NaN</td>\n",
       "      <td>False</td>\n",
       "      <td>NaN</td>\n",
       "      <td>Governmental Organization</td>\n",
       "      <td>reference grade</td>\n",
       "    </tr>\n",
       "    <tr>\n",
       "      <th>1</th>\n",
       "      <td>8664</td>\n",
       "      <td>US Diplomatic Post: Lahore</td>\n",
       "      <td>pm25</td>\n",
       "      <td>41</td>\n",
       "      <td>{'utc': '2024-08-04T23:00:00+00:00', 'local': ...</td>\n",
       "      <td>?g/m?</td>\n",
       "      <td>{'latitude': 31.560078, 'longitude': 74.33589}</td>\n",
       "      <td>PK</td>\n",
       "      <td>NaN</td>\n",
       "      <td>False</td>\n",
       "      <td>NaN</td>\n",
       "      <td>Governmental Organization</td>\n",
       "      <td>reference grade</td>\n",
       "    </tr>\n",
       "    <tr>\n",
       "      <th>2</th>\n",
       "      <td>8664</td>\n",
       "      <td>US Diplomatic Post: Lahore</td>\n",
       "      <td>pm25</td>\n",
       "      <td>26</td>\n",
       "      <td>{'utc': '2024-08-04T22:00:00+00:00', 'local': ...</td>\n",
       "      <td>?g/m?</td>\n",
       "      <td>{'latitude': 31.560078, 'longitude': 74.33589}</td>\n",
       "      <td>PK</td>\n",
       "      <td>NaN</td>\n",
       "      <td>False</td>\n",
       "      <td>NaN</td>\n",
       "      <td>Governmental Organization</td>\n",
       "      <td>reference grade</td>\n",
       "    </tr>\n",
       "    <tr>\n",
       "      <th>3</th>\n",
       "      <td>8664</td>\n",
       "      <td>US Diplomatic Post: Lahore</td>\n",
       "      <td>pm25</td>\n",
       "      <td>24</td>\n",
       "      <td>{'utc': '2024-08-04T21:00:00+00:00', 'local': ...</td>\n",
       "      <td>?g/m?</td>\n",
       "      <td>{'latitude': 31.560078, 'longitude': 74.33589}</td>\n",
       "      <td>PK</td>\n",
       "      <td>NaN</td>\n",
       "      <td>False</td>\n",
       "      <td>NaN</td>\n",
       "      <td>Governmental Organization</td>\n",
       "      <td>reference grade</td>\n",
       "    </tr>\n",
       "    <tr>\n",
       "      <th>4</th>\n",
       "      <td>8664</td>\n",
       "      <td>US Diplomatic Post: Lahore</td>\n",
       "      <td>pm25</td>\n",
       "      <td>29</td>\n",
       "      <td>{'utc': '2024-08-04T20:00:00+00:00', 'local': ...</td>\n",
       "      <td>?g/m?</td>\n",
       "      <td>{'latitude': 31.560078, 'longitude': 74.33589}</td>\n",
       "      <td>PK</td>\n",
       "      <td>NaN</td>\n",
       "      <td>False</td>\n",
       "      <td>NaN</td>\n",
       "      <td>Governmental Organization</td>\n",
       "      <td>reference grade</td>\n",
       "    </tr>\n",
       "    <tr>\n",
       "      <th>5</th>\n",
       "      <td>8664</td>\n",
       "      <td>US Diplomatic Post: Lahore</td>\n",
       "      <td>pm25</td>\n",
       "      <td>33</td>\n",
       "      <td>{'utc': '2024-08-04T19:00:00+00:00', 'local': ...</td>\n",
       "      <td>?g/m?</td>\n",
       "      <td>{'latitude': 31.560078, 'longitude': 74.33589}</td>\n",
       "      <td>PK</td>\n",
       "      <td>NaN</td>\n",
       "      <td>False</td>\n",
       "      <td>NaN</td>\n",
       "      <td>Governmental Organization</td>\n",
       "      <td>reference grade</td>\n",
       "    </tr>\n",
       "    <tr>\n",
       "      <th>6</th>\n",
       "      <td>8664</td>\n",
       "      <td>US Diplomatic Post: Lahore</td>\n",
       "      <td>pm25</td>\n",
       "      <td>42</td>\n",
       "      <td>{'utc': '2024-08-04T18:00:00+00:00', 'local': ...</td>\n",
       "      <td>?g/m?</td>\n",
       "      <td>{'latitude': 31.560078, 'longitude': 74.33589}</td>\n",
       "      <td>PK</td>\n",
       "      <td>NaN</td>\n",
       "      <td>False</td>\n",
       "      <td>NaN</td>\n",
       "      <td>Governmental Organization</td>\n",
       "      <td>reference grade</td>\n",
       "    </tr>\n",
       "    <tr>\n",
       "      <th>7</th>\n",
       "      <td>8664</td>\n",
       "      <td>US Diplomatic Post: Lahore</td>\n",
       "      <td>pm25</td>\n",
       "      <td>52</td>\n",
       "      <td>{'utc': '2024-08-04T17:00:00+00:00', 'local': ...</td>\n",
       "      <td>?g/m?</td>\n",
       "      <td>{'latitude': 31.560078, 'longitude': 74.33589}</td>\n",
       "      <td>PK</td>\n",
       "      <td>NaN</td>\n",
       "      <td>False</td>\n",
       "      <td>NaN</td>\n",
       "      <td>Governmental Organization</td>\n",
       "      <td>reference grade</td>\n",
       "    </tr>\n",
       "    <tr>\n",
       "      <th>8</th>\n",
       "      <td>8664</td>\n",
       "      <td>US Diplomatic Post: Lahore</td>\n",
       "      <td>pm25</td>\n",
       "      <td>64</td>\n",
       "      <td>{'utc': '2024-08-04T16:00:00+00:00', 'local': ...</td>\n",
       "      <td>?g/m?</td>\n",
       "      <td>{'latitude': 31.560078, 'longitude': 74.33589}</td>\n",
       "      <td>PK</td>\n",
       "      <td>NaN</td>\n",
       "      <td>False</td>\n",
       "      <td>NaN</td>\n",
       "      <td>Governmental Organization</td>\n",
       "      <td>reference grade</td>\n",
       "    </tr>\n",
       "    <tr>\n",
       "      <th>9</th>\n",
       "      <td>8664</td>\n",
       "      <td>US Diplomatic Post: Lahore</td>\n",
       "      <td>pm25</td>\n",
       "      <td>44</td>\n",
       "      <td>{'utc': '2024-08-04T15:00:00+00:00', 'local': ...</td>\n",
       "      <td>?g/m?</td>\n",
       "      <td>{'latitude': 31.560078, 'longitude': 74.33589}</td>\n",
       "      <td>PK</td>\n",
       "      <td>NaN</td>\n",
       "      <td>False</td>\n",
       "      <td>NaN</td>\n",
       "      <td>Governmental Organization</td>\n",
       "      <td>reference grade</td>\n",
       "    </tr>\n",
       "  </tbody>\n",
       "</table>\n",
       "</div>"
      ],
      "text/plain": [
       "   locationId                    location parameter  value  \\\n",
       "0        8664  US Diplomatic Post: Lahore      pm25    281   \n",
       "1        8664  US Diplomatic Post: Lahore      pm25     41   \n",
       "2        8664  US Diplomatic Post: Lahore      pm25     26   \n",
       "3        8664  US Diplomatic Post: Lahore      pm25     24   \n",
       "4        8664  US Diplomatic Post: Lahore      pm25     29   \n",
       "5        8664  US Diplomatic Post: Lahore      pm25     33   \n",
       "6        8664  US Diplomatic Post: Lahore      pm25     42   \n",
       "7        8664  US Diplomatic Post: Lahore      pm25     52   \n",
       "8        8664  US Diplomatic Post: Lahore      pm25     64   \n",
       "9        8664  US Diplomatic Post: Lahore      pm25     44   \n",
       "\n",
       "                                                date   unit  \\\n",
       "0  {'utc': '2024-08-05T00:00:00+00:00', 'local': ...  ?g/m?   \n",
       "1  {'utc': '2024-08-04T23:00:00+00:00', 'local': ...  ?g/m?   \n",
       "2  {'utc': '2024-08-04T22:00:00+00:00', 'local': ...  ?g/m?   \n",
       "3  {'utc': '2024-08-04T21:00:00+00:00', 'local': ...  ?g/m?   \n",
       "4  {'utc': '2024-08-04T20:00:00+00:00', 'local': ...  ?g/m?   \n",
       "5  {'utc': '2024-08-04T19:00:00+00:00', 'local': ...  ?g/m?   \n",
       "6  {'utc': '2024-08-04T18:00:00+00:00', 'local': ...  ?g/m?   \n",
       "7  {'utc': '2024-08-04T17:00:00+00:00', 'local': ...  ?g/m?   \n",
       "8  {'utc': '2024-08-04T16:00:00+00:00', 'local': ...  ?g/m?   \n",
       "9  {'utc': '2024-08-04T15:00:00+00:00', 'local': ...  ?g/m?   \n",
       "\n",
       "                                      coordinates country  city  isMobile  \\\n",
       "0  {'latitude': 31.560078, 'longitude': 74.33589}      PK   NaN     False   \n",
       "1  {'latitude': 31.560078, 'longitude': 74.33589}      PK   NaN     False   \n",
       "2  {'latitude': 31.560078, 'longitude': 74.33589}      PK   NaN     False   \n",
       "3  {'latitude': 31.560078, 'longitude': 74.33589}      PK   NaN     False   \n",
       "4  {'latitude': 31.560078, 'longitude': 74.33589}      PK   NaN     False   \n",
       "5  {'latitude': 31.560078, 'longitude': 74.33589}      PK   NaN     False   \n",
       "6  {'latitude': 31.560078, 'longitude': 74.33589}      PK   NaN     False   \n",
       "7  {'latitude': 31.560078, 'longitude': 74.33589}      PK   NaN     False   \n",
       "8  {'latitude': 31.560078, 'longitude': 74.33589}      PK   NaN     False   \n",
       "9  {'latitude': 31.560078, 'longitude': 74.33589}      PK   NaN     False   \n",
       "\n",
       "   isAnalysis                     entity       sensorType  \n",
       "0         NaN  Governmental Organization  reference grade  \n",
       "1         NaN  Governmental Organization  reference grade  \n",
       "2         NaN  Governmental Organization  reference grade  \n",
       "3         NaN  Governmental Organization  reference grade  \n",
       "4         NaN  Governmental Organization  reference grade  \n",
       "5         NaN  Governmental Organization  reference grade  \n",
       "6         NaN  Governmental Organization  reference grade  \n",
       "7         NaN  Governmental Organization  reference grade  \n",
       "8         NaN  Governmental Organization  reference grade  \n",
       "9         NaN  Governmental Organization  reference grade  "
      ]
     },
     "execution_count": 18,
     "metadata": {},
     "output_type": "execute_result"
    }
   ],
   "source": [
    "data.head(10)"
   ]
  },
  {
   "cell_type": "markdown",
   "metadata": {},
   "source": [
    "### **Convert date column to datetime**"
   ]
  },
  {
   "cell_type": "code",
   "execution_count": 19,
   "metadata": {},
   "outputs": [],
   "source": [
    "data['date'] = data['date'].apply(lambda x: eval(x)['local'])\n",
    "data['date'] = pd.to_datetime(data['date'])"
   ]
  },
  {
   "cell_type": "markdown",
   "metadata": {},
   "source": [
    "### **Let's Check Shape of the Dataset**"
   ]
  },
  {
   "cell_type": "code",
   "execution_count": 20,
   "metadata": {},
   "outputs": [
    {
     "name": "stdout",
     "output_type": "stream",
     "text": [
      "This dataset consist of 9767 rows and 13 columns.\n"
     ]
    }
   ],
   "source": [
    "print(f\"This dataset consist of {data.shape[0]} rows and {data.shape[1]} columns.\")"
   ]
  },
  {
   "cell_type": "markdown",
   "metadata": {},
   "source": [
    "### **Information About dataset**"
   ]
  },
  {
   "cell_type": "code",
   "execution_count": 21,
   "metadata": {},
   "outputs": [
    {
     "name": "stdout",
     "output_type": "stream",
     "text": [
      "<class 'pandas.core.frame.DataFrame'>\n",
      "RangeIndex: 9767 entries, 0 to 9766\n",
      "Data columns (total 13 columns):\n",
      " #   Column       Non-Null Count  Dtype                    \n",
      "---  ------       --------------  -----                    \n",
      " 0   locationId   9767 non-null   int64                    \n",
      " 1   location     9767 non-null   object                   \n",
      " 2   parameter    9767 non-null   object                   \n",
      " 3   value        9767 non-null   int64                    \n",
      " 4   date         9767 non-null   datetime64[ns, UTC+05:00]\n",
      " 5   unit         9767 non-null   object                   \n",
      " 6   coordinates  9767 non-null   object                   \n",
      " 7   country      9767 non-null   object                   \n",
      " 8   city         0 non-null      float64                  \n",
      " 9   isMobile     9767 non-null   bool                     \n",
      " 10  isAnalysis   0 non-null      float64                  \n",
      " 11  entity       9767 non-null   object                   \n",
      " 12  sensorType   9767 non-null   object                   \n",
      "dtypes: bool(1), datetime64[ns, UTC+05:00](1), float64(2), int64(2), object(7)\n",
      "memory usage: 925.3+ KB\n"
     ]
    }
   ],
   "source": [
    "data.info()"
   ]
  },
  {
   "cell_type": "markdown",
   "metadata": {},
   "source": [
    "### **Let's Check Columns with Missing Values**"
   ]
  },
  {
   "cell_type": "code",
   "execution_count": 22,
   "metadata": {},
   "outputs": [
    {
     "name": "stdout",
     "output_type": "stream",
     "text": [
      "The columns with missing values are city and isAnalysis.\n"
     ]
    }
   ],
   "source": [
    "missing_values = data.isnull().sum()\n",
    "columns_with_missing_values = missing_values[missing_values > 0].index.tolist()\n",
    "\n",
    "print(f\"The columns with missing values are {columns_with_missing_values[0]} and {columns_with_missing_values[1]}.\")"
   ]
  },
  {
   "cell_type": "code",
   "execution_count": 23,
   "metadata": {},
   "outputs": [
    {
     "data": {
      "text/html": [
       "<div>\n",
       "<style scoped>\n",
       "    .dataframe tbody tr th:only-of-type {\n",
       "        vertical-align: middle;\n",
       "    }\n",
       "\n",
       "    .dataframe tbody tr th {\n",
       "        vertical-align: top;\n",
       "    }\n",
       "\n",
       "    .dataframe thead th {\n",
       "        text-align: right;\n",
       "    }\n",
       "</style>\n",
       "<table border=\"1\" class=\"dataframe\">\n",
       "  <thead>\n",
       "    <tr style=\"text-align: right;\">\n",
       "      <th></th>\n",
       "      <th>locationId</th>\n",
       "      <th>value</th>\n",
       "      <th>city</th>\n",
       "      <th>isAnalysis</th>\n",
       "    </tr>\n",
       "  </thead>\n",
       "  <tbody>\n",
       "    <tr>\n",
       "      <th>count</th>\n",
       "      <td>9767.0</td>\n",
       "      <td>9767.000000</td>\n",
       "      <td>0.0</td>\n",
       "      <td>0.0</td>\n",
       "    </tr>\n",
       "    <tr>\n",
       "      <th>mean</th>\n",
       "      <td>8664.0</td>\n",
       "      <td>-76.456742</td>\n",
       "      <td>NaN</td>\n",
       "      <td>NaN</td>\n",
       "    </tr>\n",
       "    <tr>\n",
       "      <th>std</th>\n",
       "      <td>0.0</td>\n",
       "      <td>445.271374</td>\n",
       "      <td>NaN</td>\n",
       "      <td>NaN</td>\n",
       "    </tr>\n",
       "    <tr>\n",
       "      <th>min</th>\n",
       "      <td>8664.0</td>\n",
       "      <td>-999.000000</td>\n",
       "      <td>NaN</td>\n",
       "      <td>NaN</td>\n",
       "    </tr>\n",
       "    <tr>\n",
       "      <th>25%</th>\n",
       "      <td>8664.0</td>\n",
       "      <td>27.000000</td>\n",
       "      <td>NaN</td>\n",
       "      <td>NaN</td>\n",
       "    </tr>\n",
       "    <tr>\n",
       "      <th>50%</th>\n",
       "      <td>8664.0</td>\n",
       "      <td>58.000000</td>\n",
       "      <td>NaN</td>\n",
       "      <td>NaN</td>\n",
       "    </tr>\n",
       "    <tr>\n",
       "      <th>75%</th>\n",
       "      <td>8664.0</td>\n",
       "      <td>145.000000</td>\n",
       "      <td>NaN</td>\n",
       "      <td>NaN</td>\n",
       "    </tr>\n",
       "    <tr>\n",
       "      <th>max</th>\n",
       "      <td>8664.0</td>\n",
       "      <td>884.000000</td>\n",
       "      <td>NaN</td>\n",
       "      <td>NaN</td>\n",
       "    </tr>\n",
       "  </tbody>\n",
       "</table>\n",
       "</div>"
      ],
      "text/plain": [
       "       locationId        value  city  isAnalysis\n",
       "count      9767.0  9767.000000   0.0         0.0\n",
       "mean       8664.0   -76.456742   NaN         NaN\n",
       "std           0.0   445.271374   NaN         NaN\n",
       "min        8664.0  -999.000000   NaN         NaN\n",
       "25%        8664.0    27.000000   NaN         NaN\n",
       "50%        8664.0    58.000000   NaN         NaN\n",
       "75%        8664.0   145.000000   NaN         NaN\n",
       "max        8664.0   884.000000   NaN         NaN"
      ]
     },
     "execution_count": 23,
     "metadata": {},
     "output_type": "execute_result"
    }
   ],
   "source": [
    "data.describe()"
   ]
  },
  {
   "cell_type": "markdown",
   "metadata": {},
   "source": [
    "### **Check for missing values**"
   ]
  },
  {
   "cell_type": "code",
   "execution_count": 24,
   "metadata": {},
   "outputs": [
    {
     "name": "stdout",
     "output_type": "stream",
     "text": [
      "locationId        0\n",
      "location          0\n",
      "parameter         0\n",
      "value             0\n",
      "date              0\n",
      "unit              0\n",
      "coordinates       0\n",
      "country           0\n",
      "city           9767\n",
      "isMobile          0\n",
      "isAnalysis     9767\n",
      "entity            0\n",
      "sensorType        0\n",
      "dtype: int64\n"
     ]
    }
   ],
   "source": [
    "print(data.isnull().sum())"
   ]
  },
  {
   "cell_type": "markdown",
   "metadata": {},
   "source": [
    "### **Visualizations**"
   ]
  },
  {
   "cell_type": "markdown",
   "metadata": {},
   "source": [
    "#### **Distribution of PM2.5 values**"
   ]
  },
  {
   "cell_type": "code",
   "execution_count": 25,
   "metadata": {},
   "outputs": [
    {
     "data": {
      "image/png": "[encoded data removed]",
      "text/plain": [
       "<Figure size 1000x600 with 1 Axes>"
      ]
     },
     "metadata": {},
     "output_type": "display_data"
    }
   ],
   "source": [
    "plt.figure(figsize=(10, 6))\n",
    "sns.histplot(data['value'], bins=30, kde=True)\n",
    "plt.title('Distribution of PM2.5 Values')\n",
    "plt.xlabel('PM2.5 Value (?g/m?)')\n",
    "plt.ylabel('Frequency')\n",
    "plt.show()"
   ]
  },
  {
   "cell_type": "markdown",
   "metadata": {},
   "source": [
    "### **Time series plot of PM2.5 values**"
   ]
  },
  {
   "cell_type": "code",
   "execution_count": 26,
   "metadata": {},
   "outputs": [
    {
     "data": {
      "image/png": "[encoded data removed]",
      "text/plain": [
       "<Figure size 1400x700 with 1 Axes>"
      ]
     },
     "metadata": {},
     "output_type": "display_data"
    }
   ],
   "source": [
    "plt.figure(figsize=(14, 7))\n",
    "plt.plot(data['date'], data['value'])\n",
    "plt.title('PM2.5 Values Over Time')\n",
    "plt.xlabel('Date')\n",
    "plt.ylabel('PM2.5 Value (?g/m?)')\n",
    "plt.show()"
   ]
  },
  {
   "cell_type": "markdown",
   "metadata": {},
   "source": [
    "#### **Box Plot of Categorical Features**"
   ]
  },
  {
   "cell_type": "code",
   "execution_count": 27,
   "metadata": {},
   "outputs": [
    {
     "data": {
      "image/png": "[encoded data removed]",
      "text/plain": [
       "<Figure size 1000x600 with 1 Axes>"
      ]
     },
     "metadata": {},
     "output_type": "display_data"
    }
   ],
   "source": [
    "plt.figure(figsize=(10,6))\n",
    "sns.boxplot(x='value', data=data)\n",
    "plt.title('Boxplot of PM2.5 Values')\n",
    "plt.xlabel('PM2.5 Value')\n",
    "plt.ylabel('Frequency')\n",
    "plt.show()"
   ]
  },
  {
   "cell_type": "markdown",
   "metadata": {},
   "source": [
    "### **Initial Observations**\n",
    "\n",
    "- This Pandas DataFrame with 9767 entries and 13 columns. \n",
    "- The columns include locationId, location, parameter, value, date, unit, coordinates, country, city, isMobile, isAnalysis, entity, and sensorType. \n",
    "- The DataFrame contains a mix of data types, including integers, floats, strings, and booleans.\n",
    "- The columns with missing values are city and isAnalysis."
   ]
  },
  {
   "cell_type": "markdown",
   "metadata": {},
   "source": [
    "-----\n",
    "\n",
    "## **Data Preprocessing**\n",
    "\n",
    "-----"
   ]
  },
  {
   "cell_type": "markdown",
   "metadata": {},
   "source": [
    "### **Feature engineering**"
   ]
  },
  {
   "cell_type": "code",
   "execution_count": 28,
   "metadata": {},
   "outputs": [],
   "source": [
    "data['month'] = data['date'].dt.month\n",
    "data['day'] = data['date'].dt.day\n",
    "data['hour'] = data['date'].dt.hour\n",
    "data['weekday'] = data['date'].dt.weekday"
   ]
  },
  {
   "cell_type": "markdown",
   "metadata": {},
   "source": [
    "### **Drop columns that won't be used**"
   ]
  },
  {
   "cell_type": "code",
   "execution_count": 29,
   "metadata": {},
   "outputs": [],
   "source": [
    "data = data.drop(columns=['locationId', 'location', 'parameter', 'unit', 'coordinates', 'country', 'city', 'isMobile', 'isAnalysis', 'entity', 'sensorType'])"
   ]
  },
  {
   "cell_type": "markdown",
   "metadata": {},
   "source": [
    "### **Define features and target variable**"
   ]
  },
  {
   "cell_type": "code",
   "execution_count": 30,
   "metadata": {},
   "outputs": [],
   "source": [
    "X = data[['month', 'day', 'hour', 'weekday']]\n",
    "y = data['value']"
   ]
  },
  {
   "cell_type": "markdown",
   "metadata": {},
   "source": [
    "### **Train-test split**"
   ]
  },
  {
   "cell_type": "code",
   "execution_count": 31,
   "metadata": {},
   "outputs": [],
   "source": [
    "X_train, X_test, y_train, y_test = train_test_split(X, y, test_size=0.2, random_state=42)"
   ]
  },
  {
   "cell_type": "markdown",
   "metadata": {},
   "source": [
    "### **Save preprocessed data**"
   ]
  },
  {
   "cell_type": "code",
   "execution_count": 32,
   "metadata": {},
   "outputs": [],
   "source": [
    "processed_data_path = \"E:/Project and Advices/Project Air Quality Index project/data/processed/\"\n",
    "X_train.to_csv(processed_data_path + 'X_train.csv', index=False)\n",
    "X_test.to_csv(processed_data_path + 'X_test.csv', index=False)\n",
    "y_train.to_csv(processed_data_path + 'y_train.csv', index=False)\n",
    "y_test.to_csv(processed_data_path + 'y_test.csv', index=False)"
   ]
  },
  {
   "cell_type": "markdown",
   "metadata": {},
   "source": [
    "-----\n",
    "\n",
    "## **Model Training**\n",
    "\n",
    "-----"
   ]
  },
  {
   "cell_type": "markdown",
   "metadata": {},
   "source": [
    "### **Define a function to evaluate models**"
   ]
  },
  {
   "cell_type": "code",
   "execution_count": 34,
   "metadata": {},
   "outputs": [],
   "source": [
    "def evaluate_model(model, X_train, y_train, X_test, y_test):\n",
    "    model.fit(X_train, y_train)\n",
    "    y_pred = model.predict(X_test)\n",
    "    mse = mean_squared_error(y_test, y_pred)\n",
    "    mae = mean_absolute_error(y_test, y_pred)\n",
    "    r2 = r2_score(y_test, y_pred)\n",
    "    return mse, mae, r2"
   ]
  },
  {
   "cell_type": "markdown",
   "metadata": {},
   "source": [
    "### **Define models**"
   ]
  },
  {
   "cell_type": "code",
   "execution_count": 36,
   "metadata": {},
   "outputs": [],
   "source": [
    "models = {\n",
    "    'Linear Regression': LinearRegression(),\n",
    "    'Decision Tree': DecisionTreeRegressor(random_state=42),\n",
    "    'Random Forest': RandomForestRegressor(random_state=42),\n",
    "    'Gradient Boosting': GradientBoostingRegressor(random_state=42),\n",
    "    'XGBoost': XGBRegressor(random_state=42),\n",
    "    'Support Vector Regressor': SVR()\n",
    "}"
   ]
  },
  {
   "cell_type": "markdown",
   "metadata": {},
   "source": [
    "### **Evaluate each model**"
   ]
  },
  {
   "cell_type": "code",
   "execution_count": 37,
   "metadata": {},
   "outputs": [],
   "source": [
    "results = {}\n",
    "for name, model in models.items():\n",
    "    mse, mae, r2 = evaluate_model(model, X_train, y_train, X_test, y_test)\n",
    "    results[name] = {'MSE': mse, 'MAE': mae, 'R2': r2}"
   ]
  },
  {
   "cell_type": "markdown",
   "metadata": {},
   "source": [
    "### **Display results**"
   ]
  },
  {
   "cell_type": "code",
   "execution_count": 39,
   "metadata": {},
   "outputs": [
    {
     "data": {
      "text/html": [
       "<div>\n",
       "<style scoped>\n",
       "    .dataframe tbody tr th:only-of-type {\n",
       "        vertical-align: middle;\n",
       "    }\n",
       "\n",
       "    .dataframe tbody tr th {\n",
       "        vertical-align: top;\n",
       "    }\n",
       "\n",
       "    .dataframe thead th {\n",
       "        text-align: right;\n",
       "    }\n",
       "</style>\n",
       "<table border=\"1\" class=\"dataframe\">\n",
       "  <thead>\n",
       "    <tr style=\"text-align: right;\">\n",
       "      <th></th>\n",
       "      <th>MSE</th>\n",
       "      <th>MAE</th>\n",
       "      <th>R2</th>\n",
       "    </tr>\n",
       "  </thead>\n",
       "  <tbody>\n",
       "    <tr>\n",
       "      <th>Linear Regression</th>\n",
       "      <td>180803.020723</td>\n",
       "      <td>311.689715</td>\n",
       "      <td>0.037477</td>\n",
       "    </tr>\n",
       "    <tr>\n",
       "      <th>Decision Tree</th>\n",
       "      <td>64498.705732</td>\n",
       "      <td>78.227738</td>\n",
       "      <td>0.656635</td>\n",
       "    </tr>\n",
       "    <tr>\n",
       "      <th>Random Forest</th>\n",
       "      <td>43069.793416</td>\n",
       "      <td>77.772697</td>\n",
       "      <td>0.770714</td>\n",
       "    </tr>\n",
       "    <tr>\n",
       "      <th>Gradient Boosting</th>\n",
       "      <td>87557.958976</td>\n",
       "      <td>200.872771</td>\n",
       "      <td>0.533876</td>\n",
       "    </tr>\n",
       "    <tr>\n",
       "      <th>XGBoost</th>\n",
       "      <td>41299.768869</td>\n",
       "      <td>101.028786</td>\n",
       "      <td>0.780137</td>\n",
       "    </tr>\n",
       "    <tr>\n",
       "      <th>Support Vector Regressor</th>\n",
       "      <td>198513.045573</td>\n",
       "      <td>240.128128</td>\n",
       "      <td>-0.056804</td>\n",
       "    </tr>\n",
       "  </tbody>\n",
       "</table>\n",
       "</div>"
      ],
      "text/plain": [
       "                                    MSE         MAE        R2\n",
       "Linear Regression         180803.020723  311.689715  0.037477\n",
       "Decision Tree              64498.705732   78.227738  0.656635\n",
       "Random Forest              43069.793416   77.772697  0.770714\n",
       "Gradient Boosting          87557.958976  200.872771  0.533876\n",
       "XGBoost                    41299.768869  101.028786  0.780137\n",
       "Support Vector Regressor  198513.045573  240.128128 -0.056804"
      ]
     },
     "execution_count": 39,
     "metadata": {},
     "output_type": "execute_result"
    }
   ],
   "source": [
    "results_df = pd.DataFrame(results).T\n",
    "results_df"
   ]
  },
  {
   "cell_type": "markdown",
   "metadata": {},
   "source": [
    "### **Select the best model**"
   ]
  },
  {
   "cell_type": "code",
   "execution_count": 41,
   "metadata": {},
   "outputs": [
    {
     "name": "stdout",
     "output_type": "stream",
     "text": [
      "The best model is XGBoost with R2 score of 0.7801365256309509.\n"
     ]
    }
   ],
   "source": [
    "best_model_name = results_df['R2'].idxmax()\n",
    "best_model = models[best_model_name]\n",
    "print(f\"The best model is {best_model_name} with R2 score of {results_df.loc[best_model_name, 'R2']}.\")"
   ]
  },
  {
   "cell_type": "markdown",
   "metadata": {},
   "source": [
    "### **Save the best model**"
   ]
  },
  {
   "cell_type": "code",
   "execution_count": 43,
   "metadata": {},
   "outputs": [
    {
     "data": {
      "text/plain": [
       "['E:/Project and Advices/Project Air Quality Index project/models/best_model.pkl']"
      ]
     },
     "execution_count": 43,
     "metadata": {},
     "output_type": "execute_result"
    }
   ],
   "source": [
    "model_save_path = \"E:/Project and Advices/Project Air Quality Index project/models/\"\n",
    "joblib.dump(best_model, model_save_path + 'best_model.pkl')"
   ]
  },
  {
   "cell_type": "code",
   "execution_count": null,
   "metadata": {},
   "outputs": [],
   "source": []
  }
 ],
 "metadata": {
  "kernelspec": {
   "display_name": "Python 3",
   "language": "python",
   "name": "python3"
  },
  "language_info": {
   "codemirror_mode": {
    "name": "ipython",
    "version": 3
   },
   "file_extension": ".py",
   "mimetype": "text/x-python",
   "name": "python",
   "nbconvert_exporter": "python",
   "pygments_lexer": "ipython3",
   "version": "3.9.19"
  }
 },
 "nbformat": 4,
 "nbformat_minor": 2
}
